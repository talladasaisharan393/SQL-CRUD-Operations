{
  "nbformat": 4,
  "nbformat_minor": 0,
  "metadata": {
    "colab": {
      "provenance": []
    },
    "kernelspec": {
      "name": "python3",
      "display_name": "Python 3"
    },
    "language_info": {
      "name": "python"
    }
  },
  "cells": [
    {
      "cell_type": "code",
      "execution_count": 1,
      "metadata": {
        "id": "YuHMJKaBaXI3"
      },
      "outputs": [],
      "source": [
        "import sqlite3"
      ]
    },
    {
      "cell_type": "code",
      "source": [
        "# Creating a connection to the SQLite database\n",
        "conn = sqlite3.connect('library01.db')"
      ],
      "metadata": {
        "id": "nf68wjIbbQfb"
      },
      "execution_count": 2,
      "outputs": []
    },
    {
      "cell_type": "code",
      "source": [
        "# Creating a cursor object\n",
        "cursor = conn.cursor()"
      ],
      "metadata": {
        "id": "QDnLrcuhbUlb"
      },
      "execution_count": 3,
      "outputs": []
    },
    {
      "cell_type": "code",
      "source": [
        "# Function to create the books table\n",
        "def create_table():\n",
        "    cursor.execute('''\n",
        "    CREATE TABLE IF NOT EXISTS books (\n",
        "        id INTEGER PRIMARY KEY,\n",
        "        title TEXT,\n",
        "        author TEXT,\n",
        "        year INTEGER\n",
        "    )\n",
        "    ''')\n",
        "    print(\"Table 'books' created successfully.\")"
      ],
      "metadata": {
        "id": "fLaZrxG5bY5f"
      },
      "execution_count": 4,
      "outputs": []
    },
    {
      "cell_type": "code",
      "source": [
        "# Function to insert a book into the books table\n",
        "def insert_book(title, author, year):\n",
        "    cursor.execute('''\n",
        "    INSERT INTO books (title, author, year)\n",
        "    VALUES (?, ?, ?)\n",
        "    ''', (title, author, year))\n",
        "    conn.commit()\n",
        "    print(f\"Book '{title}' inserted successfully.\")"
      ],
      "metadata": {
        "id": "aH4sx8MXbmBk"
      },
      "execution_count": 5,
      "outputs": []
    },
    {
      "cell_type": "code",
      "source": [
        "# Function to update a book's details in the books table\n",
        "def update_book(book_id, title, author, year):\n",
        "    cursor.execute('''\n",
        "    UPDATE books\n",
        "    SET title = ?, author = ?, year = ?\n",
        "    WHERE id = ?\n",
        "    ''', (title, author, year, book_id))\n",
        "    conn.commit()\n",
        "    print(f\"Book with ID {book_id} updated successfully.\")"
      ],
      "metadata": {
        "id": "CTKuzdrscM3N"
      },
      "execution_count": 6,
      "outputs": []
    },
    {
      "cell_type": "code",
      "source": [
        "# Function to delete a book from the books table\n",
        "def delete_book(book_id):\n",
        "    cursor.execute('''\n",
        "    DELETE FROM books\n",
        "    WHERE id = ?\n",
        "    ''', (book_id,))\n",
        "    conn.commit()\n",
        "    print(f\"Book with ID {book_id} deleted successfully.\")"
      ],
      "metadata": {
        "id": "yYEp8qSdckPS"
      },
      "execution_count": 7,
      "outputs": []
    },
    {
      "cell_type": "code",
      "source": [
        "# Function to fetch all books from the books table\n",
        "def fetch_books():\n",
        "    cursor.execute('SELECT * FROM books')\n",
        "    rows = cursor.fetchall()\n",
        "    for row in rows:\n",
        "        print(row)"
      ],
      "metadata": {
        "id": "NdcbC9H0cqC6"
      },
      "execution_count": 8,
      "outputs": []
    },
    {
      "cell_type": "code",
      "source": [
        "# Creating the table\n",
        "create_table()"
      ],
      "metadata": {
        "colab": {
          "base_uri": "https://localhost:8080/"
        },
        "id": "5mlaT2p3cwxk",
        "outputId": "66350517-c486-40b6-f40c-5df3128f377b"
      },
      "execution_count": 9,
      "outputs": [
        {
          "output_type": "stream",
          "name": "stdout",
          "text": [
            "Table 'books' created successfully.\n"
          ]
        }
      ]
    },
    {
      "cell_type": "code",
      "source": [
        "# Inserting sample books\n",
        "insert_book('Python', 'Sai', 2024)\n",
        "insert_book('My SQL', 'Sharan', 2023)\n",
        "insert_book('Mongo DB', 'Tallada', 2022)"
      ],
      "metadata": {
        "colab": {
          "base_uri": "https://localhost:8080/"
        },
        "id": "XwI1fEMadUEj",
        "outputId": "beb66a86-d7c6-4075-8e53-2026b188de8b"
      },
      "execution_count": 10,
      "outputs": [
        {
          "output_type": "stream",
          "name": "stdout",
          "text": [
            "Book 'Python' inserted successfully.\n",
            "Book 'My SQL' inserted successfully.\n",
            "Book 'Mongo DB' inserted successfully.\n"
          ]
        }
      ]
    },
    {
      "cell_type": "code",
      "source": [
        "# Fetching and displaying all books\n",
        "print(\"Books in the library:\")\n",
        "fetch_books()"
      ],
      "metadata": {
        "colab": {
          "base_uri": "https://localhost:8080/"
        },
        "id": "Ihj4J86eduko",
        "outputId": "b14ded35-9ac2-4702-f677-5ec9eb0c6824"
      },
      "execution_count": 11,
      "outputs": [
        {
          "output_type": "stream",
          "name": "stdout",
          "text": [
            "Books in the library:\n",
            "(1, 'Python', 'Sai', 2024)\n",
            "(2, 'My SQL', 'Sharan', 2023)\n",
            "(3, 'Mongo DB', 'Tallada', 2022)\n"
          ]
        }
      ]
    },
    {
      "cell_type": "code",
      "source": [
        "# Updating a book\n",
        "update_book(1, 'Python', 'Sai', 2021)"
      ],
      "metadata": {
        "colab": {
          "base_uri": "https://localhost:8080/"
        },
        "id": "vy3fIxwcdzZF",
        "outputId": "ec462161-540b-4452-c975-1e548709f84f"
      },
      "execution_count": 12,
      "outputs": [
        {
          "output_type": "stream",
          "name": "stdout",
          "text": [
            "Book with ID 1 updated successfully.\n"
          ]
        }
      ]
    },
    {
      "cell_type": "code",
      "source": [
        "# Fetching and displaying all books after update\n",
        "print(\"\\nBooks in the library after update:\")\n",
        "fetch_books()"
      ],
      "metadata": {
        "colab": {
          "base_uri": "https://localhost:8080/"
        },
        "id": "a3IVFmXFeC1B",
        "outputId": "d211628a-598c-40a5-83f0-5fd7b46e498c"
      },
      "execution_count": 13,
      "outputs": [
        {
          "output_type": "stream",
          "name": "stdout",
          "text": [
            "\n",
            "Books in the library after update:\n",
            "(1, 'Python', 'Sai', 2021)\n",
            "(2, 'My SQL', 'Sharan', 2023)\n",
            "(3, 'Mongo DB', 'Tallada', 2022)\n"
          ]
        }
      ]
    },
    {
      "cell_type": "code",
      "source": [
        "# Deleting a book\n",
        "delete_book(2)"
      ],
      "metadata": {
        "colab": {
          "base_uri": "https://localhost:8080/"
        },
        "id": "85HGQPV8eVZL",
        "outputId": "51dc53a7-a3dd-4fa0-cf47-3fdccf5df8de"
      },
      "execution_count": 14,
      "outputs": [
        {
          "output_type": "stream",
          "name": "stdout",
          "text": [
            "Book with ID 2 deleted successfully.\n"
          ]
        }
      ]
    },
    {
      "cell_type": "code",
      "source": [
        "# Fetching and displaying all books after deletion\n",
        "print(\"\\nBooks in the library after deletion:\")\n",
        "fetch_books()"
      ],
      "metadata": {
        "colab": {
          "base_uri": "https://localhost:8080/"
        },
        "id": "tUUVEvfqeYmF",
        "outputId": "22508484-6d8b-44c6-ccc8-ebf450ea6e32"
      },
      "execution_count": 15,
      "outputs": [
        {
          "output_type": "stream",
          "name": "stdout",
          "text": [
            "\n",
            "Books in the library after deletion:\n",
            "(1, 'Python', 'Sai', 2021)\n",
            "(3, 'Mongo DB', 'Tallada', 2022)\n"
          ]
        }
      ]
    },
    {
      "cell_type": "code",
      "source": [
        "# Closing the connection\n",
        "conn.close()"
      ],
      "metadata": {
        "id": "E2p3xk_SeeeK"
      },
      "execution_count": 16,
      "outputs": []
    },
    {
      "cell_type": "code",
      "source": [],
      "metadata": {
        "id": "xbrF6ydnegWN"
      },
      "execution_count": 16,
      "outputs": []
    }
  ]
}